{
 "cells": [
  {
   "cell_type": "code",
   "execution_count": 1,
   "metadata": {},
   "outputs": [
    {
     "name": "stdout",
     "output_type": "stream",
     "text": [
      "22/08/22 01:54:47 WARN Utils: Your hostname, Luo resolves to a loopback address: 127.0.1.1; using 172.17.1.121 instead (on interface eth0)\n",
      "22/08/22 01:54:47 WARN Utils: Set SPARK_LOCAL_IP if you need to bind to another address\n"
     ]
    },
    {
     "name": "stderr",
     "output_type": "stream",
     "text": [
      "Setting default log level to \"WARN\".\n",
      "To adjust logging level use sc.setLogLevel(newLevel). For SparkR, use setLogLevel(newLevel).\n"
     ]
    },
    {
     "name": "stdout",
     "output_type": "stream",
     "text": [
      "22/08/22 01:54:49 WARN NativeCodeLoader: Unable to load native-hadoop library for your platform... using builtin-java classes where applicable\n"
     ]
    }
   ],
   "source": [
    "from pyspark.sql import SparkSession\n",
    "from urllib.request import urlretrieve\n",
    "# Create a spark session (which will run spark jobs)\n",
    "spark = (\n",
    "    SparkSession.builder.appName(\"ADS project 1\")\n",
    "    .config(\"spark.sql.repl.eagerEval.enabled\", True) \n",
    "    .config(\"spark.executor.memory\",\"4G\")\n",
    "    .config(\"spark.driver.memory\",\"8G\")\n",
    "    .config(\"spark.sql.parquet.cacheMetadata\", \"true\")\n",
    "    .config(\"spark.sql.session.timeZone\", \"Etc/UTC\")\n",
    "    .getOrCreate()\n",
    ")"
   ]
  },
  {
   "cell_type": "code",
   "execution_count": 2,
   "metadata": {},
   "outputs": [],
   "source": [
    "spark.conf.set(\"spark.sql.parquet.compression.codec\", \"gzip\")"
   ]
  },
  {
   "cell_type": "code",
   "execution_count": 3,
   "metadata": {},
   "outputs": [],
   "source": [
    "from pyspark.sql import functions as F\n",
    "from pyspark.sql import SparkSession\n",
    "from pyspark.sql.functions import *\n",
    "import matplotlib.pyplot as plt\n",
    "import pandas as pd\n",
    "import numpy as np\n",
    "import seaborn as sbs\n",
    "import geopandas as gpd\n",
    "import folium"
   ]
  },
  {
   "cell_type": "code",
   "execution_count": 4,
   "metadata": {},
   "outputs": [],
   "source": [
    "YEARS = ['2019', '2021']\n",
    "MONTHS = range(1, 13)\n",
    "path = f\"../data/curated/tlc_data/\"\n",
    "cols = ['is_weekend', 'is_airport', 'is_rainy']\n",
    "count = 0\n"
   ]
  },
  {
   "cell_type": "code",
   "execution_count": 5,
   "metadata": {},
   "outputs": [
    {
     "name": "stderr",
     "output_type": "stream",
     "text": [
      "                                                                                \r"
     ]
    }
   ],
   "source": [
    "sdf = spark.read.parquet(f'{path}2021/final_data/*/')"
   ]
  },
  {
   "cell_type": "code",
   "execution_count": 6,
   "metadata": {},
   "outputs": [
    {
     "name": "stderr",
     "output_type": "stream",
     "text": [
      "[Stage 1:=====================================================>   (15 + 1) / 16]\r"
     ]
    },
    {
     "name": "stdout",
     "output_type": "stream",
     "text": [
      "+----------+----------+--------+------------------+-------------------+\n",
      "|is_weekend|is_airport|is_rainy|    avg_tip_amount|       avg_tip_rate|\n",
      "+----------+----------+--------+------------------+-------------------+\n",
      "|         1|     false|   False|2.4369184440813187| 0.2727787806906374|\n",
      "|         1|     false|    True| 2.439985836728571|0.27517731627348113|\n",
      "|         0|     false|    True|2.4675789243910105|0.27978290572314785|\n",
      "|         0|     false|   False| 2.474437247835323|0.27891717295346324|\n",
      "|         1|      true|   False|3.1662441838823736|0.24214262662915156|\n",
      "|         1|      true|    True| 3.193979561166214|0.24826461778725292|\n",
      "|         0|      true|    True| 3.251899867374009| 0.2473157291784234|\n",
      "|         0|      true|   False| 3.265285362931209|  0.245129772343385|\n",
      "+----------+----------+--------+------------------+-------------------+\n",
      "\n"
     ]
    },
    {
     "name": "stderr",
     "output_type": "stream",
     "text": [
      "                                                                                \r"
     ]
    }
   ],
   "source": [
    "# take the data of 2021 to aggregate with respect to the categorical features\n",
    "aggregated_results = sdf \\\n",
    "                    .groupBy(cols) \\\n",
    "                    .agg(\n",
    "                        # take the mean of each with respect to the combinations of categorical features\n",
    "                        F.mean(\"tip_amount\").alias(\"avg_tip_amount\"),\n",
    "                        F.mean(\"tip_rate\").alias(\"avg_tip_rate\")\n",
    "                    ).orderBy('avg_tip_amount')\n",
    "                    # order by Avg Tip Amount in ascending order\n",
    "                    \n",
    "\n",
    "aggregated_results.show()"
   ]
  }
 ],
 "metadata": {
  "kernelspec": {
   "display_name": "Python 3.8.10 64-bit",
   "language": "python",
   "name": "python3"
  },
  "language_info": {
   "codemirror_mode": {
    "name": "ipython",
    "version": 3
   },
   "file_extension": ".py",
   "mimetype": "text/x-python",
   "name": "python",
   "nbconvert_exporter": "python",
   "pygments_lexer": "ipython3",
   "version": "3.8.10"
  },
  "orig_nbformat": 4,
  "vscode": {
   "interpreter": {
    "hash": "916dbcbb3f70747c44a77c7bcd40155683ae19c65e1c03b4aa3499c5328201f1"
   }
  }
 },
 "nbformat": 4,
 "nbformat_minor": 2
}

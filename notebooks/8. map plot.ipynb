{
 "cells": [
  {
   "cell_type": "code",
   "execution_count": 1,
   "metadata": {},
   "outputs": [
    {
     "name": "stdout",
     "output_type": "stream",
     "text": [
      "22/08/22 01:44:27 WARN Utils: Your hostname, Luo resolves to a loopback address: 127.0.1.1; using 172.17.1.121 instead (on interface eth0)\n",
      "22/08/22 01:44:27 WARN Utils: Set SPARK_LOCAL_IP if you need to bind to another address\n"
     ]
    },
    {
     "name": "stderr",
     "output_type": "stream",
     "text": [
      "Setting default log level to \"WARN\".\n",
      "To adjust logging level use sc.setLogLevel(newLevel). For SparkR, use setLogLevel(newLevel).\n"
     ]
    },
    {
     "name": "stdout",
     "output_type": "stream",
     "text": [
      "22/08/22 01:44:28 WARN NativeCodeLoader: Unable to load native-hadoop library for your platform... using builtin-java classes where applicable\n",
      "22/08/22 01:44:29 WARN Utils: Service 'SparkUI' could not bind on port 4040. Attempting port 4041.\n"
     ]
    }
   ],
   "source": [
    "from pyspark.sql import SparkSession\n",
    "from urllib.request import urlretrieve\n",
    "# Create a spark session (which will run spark jobs)\n",
    "spark = (\n",
    "    SparkSession.builder.appName(\"ADS project 1\")\n",
    "    .config(\"spark.sql.repl.eagerEval.enabled\", True) \n",
    "    .config(\"spark.executor.memory\",\"2G\")\n",
    "    .config(\"spark.driver.memory\",\"4G\")\n",
    "    .config(\"spark.sql.parquet.cacheMetadata\", \"true\")\n",
    "    .config(\"spark.sql.session.timeZone\", \"Etc/UTC\")\n",
    "    .getOrCreate()\n",
    ")"
   ]
  },
  {
   "cell_type": "code",
   "execution_count": 2,
   "metadata": {},
   "outputs": [],
   "source": [
    "spark.conf.set(\"spark.sql.parquet.compression.codec\", \"gzip\")"
   ]
  },
  {
   "cell_type": "code",
   "execution_count": 3,
   "metadata": {},
   "outputs": [],
   "source": [
    "from pyspark.sql import functions as F\n",
    "from pyspark.sql import SparkSession\n",
    "from pyspark.sql.functions import *\n",
    "import matplotlib.pyplot as plt\n",
    "import pandas as pd\n",
    "import numpy as np\n",
    "import seaborn as sbs\n",
    "import geopandas as gpd\n",
    "import folium"
   ]
  },
  {
   "cell_type": "code",
   "execution_count": 4,
   "metadata": {},
   "outputs": [],
   "source": [
    "YEARS = ['2021']\n",
    "MONTHS = range(1, 13)\n",
    "path = f\"../data/curated/tlc_data/\"\n",
    "external_cols = ['Month,Date', 'Temperature (F)', 'Wind Speed (mph)', 'is_rainy']"
   ]
  },
  {
   "cell_type": "code",
   "execution_count": 5,
   "metadata": {},
   "outputs": [],
   "source": [
    "# Cited from ADS tutorial 2\n",
    "def create_geo():\n",
    "    sf = gpd.read_file(\"../data/raw/taxi_zones/taxi_zones.shp\")\n",
    "    zones = pd.read_csv(\"../data/raw/taxi_zones/taxi+_zone_lookup.csv\")\n",
    "    sf['geometry'] = sf['geometry'].to_crs(\"+proj=longlat +ellps=WGS84 +datum=WGS84 +no_defs\")\n",
    "    gdf = gpd.GeoDataFrame(\n",
    "        pd.merge(zones, sf, on='LocationID', how='inner')\n",
    "    )\n",
    "    # create a JSON \n",
    "    geoJSON = gdf[['LocationID', 'geometry']].drop_duplicates('LocationID').to_json()\n",
    "    \n",
    "    return gdf, geoJSON\n"
   ]
  },
  {
   "cell_type": "code",
   "execution_count": 6,
   "metadata": {},
   "outputs": [],
   "source": [
    "# create the proportion that are going to be displayed on the map\n",
    "def create_proportion(sdf, PuDo, gdf):\n",
    "    proportions = sdf[[f'{PuDo}LocationID', 'tip_amount']] \\\n",
    "            .groupby(f'{PuDo}LocationID') \\\n",
    "            .agg(\n",
    "                {\n",
    "                    'tip_amount': 'sum', # sum over total amount earned\n",
    "                    f'{PuDo}LocationID': 'count' # count the number of trips with respect to PickUp or DropOff Locations\n",
    "                }\n",
    "            )\\\n",
    "            .withColumn('avg_tip_amount', col('sum(tip_amount)') / col(f'count({PuDo}LocationID)'))\n",
    "    # Link the LocationID with their actual LocationName\n",
    "    df = proportions.toPandas() \\\n",
    "    .merge(gdf[['LocationID', 'geometry']], left_on=f'{PuDo}LocationID', right_on='LocationID') \\\n",
    "    .drop('LocationID', axis=1).drop('sum(tip_amount)', axis = 1)\n",
    "    return df"
   ]
  },
  {
   "cell_type": "code",
   "execution_count": 7,
   "metadata": {},
   "outputs": [],
   "source": [
    "# Plot the map\n",
    "# Cited from ADS Tutorial 2\n",
    "def plot_map(df, geoJson, PuDo): \n",
    "    # initialise the map\n",
    "    m = folium.Map(location=[40.73, -73.74], tiles=\"Stamen Terrain\", zoom_start=10)\n",
    "    c = folium.Choropleth(\n",
    "                geo_data=geoJson, # geoJSON \n",
    "                name='choropleth', # name of plot\n",
    "                data=df, # data source\n",
    "                columns=[f'{PuDo}LocationID','avg_tip_amount'], # the columns required\n",
    "                key_on='properties.LocationID', # this is from the geoJSON's properties\n",
    "                fill_color='PuRd', # color scheme\n",
    "                fill_opacity=0.7,\n",
    "                line_opacity=0,\n",
    "                nan_fill_color='black',\n",
    "                legend_name='Average Tip Earnings USD$'\n",
    "            )\n",
    "\n",
    "    c.add_to(m)\n",
    "    return m"
   ]
  },
  {
   "cell_type": "code",
   "execution_count": 8,
   "metadata": {},
   "outputs": [
    {
     "name": "stderr",
     "output_type": "stream",
     "text": [
      "                                                                                \r"
     ]
    }
   ],
   "source": [
    "# plot the average Tip amount in different PickUp and DropOff Locations in 2021\n",
    "sdf = spark.read.parquet(f'{path}2021/final_data/*/')\n",
    "gdf, geoJSON = create_geo()\n",
    "df_pu = create_proportion(sdf, 'PU', gdf)\n",
    "m_pu = plot_map(df_pu, geoJSON, 'PU')\n",
    "df_do = create_proportion(sdf, 'DO', gdf)\n",
    "m_do = plot_map(df_do, geoJSON, 'DO')"
   ]
  },
  {
   "cell_type": "code",
   "execution_count": 9,
   "metadata": {},
   "outputs": [],
   "source": [
    "m_pu.save('../plots/Pick Up Map.html')"
   ]
  },
  {
   "cell_type": "code",
   "execution_count": 10,
   "metadata": {},
   "outputs": [],
   "source": [
    "m_do.save('../plots/Drop Off Map.html')"
   ]
  }
 ],
 "metadata": {
  "kernelspec": {
   "display_name": "Python 3.8.10 64-bit",
   "language": "python",
   "name": "python3"
  },
  "language_info": {
   "codemirror_mode": {
    "name": "ipython",
    "version": 3
   },
   "file_extension": ".py",
   "mimetype": "text/x-python",
   "name": "python",
   "nbconvert_exporter": "python",
   "pygments_lexer": "ipython3",
   "version": "3.8.10"
  },
  "orig_nbformat": 4,
  "vscode": {
   "interpreter": {
    "hash": "916dbcbb3f70747c44a77c7bcd40155683ae19c65e1c03b4aa3499c5328201f1"
   }
  }
 },
 "nbformat": 4,
 "nbformat_minor": 2
}

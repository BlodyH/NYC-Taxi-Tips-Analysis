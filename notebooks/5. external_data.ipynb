{
 "cells": [
  {
   "cell_type": "code",
   "execution_count": 1,
   "metadata": {},
   "outputs": [],
   "source": [
    "import pandas as pd\n",
    "import numpy as np"
   ]
  },
  {
   "cell_type": "code",
   "execution_count": 2,
   "metadata": {},
   "outputs": [],
   "source": [
    "YEARS = ['2019', '2021']"
   ]
  },
  {
   "cell_type": "code",
   "execution_count": 3,
   "metadata": {},
   "outputs": [],
   "source": [
    "# format the external dataset\n",
    "def process_external(weather, year):\n",
    "    for i in weather.columns:\n",
    "        if i != 'Month,Date':\n",
    "            # change the data types into numeric\n",
    "            weather[i] = pd.to_numeric(weather[i], errors='raise', downcast=None)\n",
    "    # decide whether it is raining based on precipitation\n",
    "    weather['is_rainy'] = weather['Precipitation (in)'] != 0\n",
    "    weather.to_csv(f'../data/curated/NYC weather {year} cleaned.csv')\n",
    "    print(f'finished {year}')"
   ]
  },
  {
   "cell_type": "code",
   "execution_count": 4,
   "metadata": {},
   "outputs": [
    {
     "name": "stdout",
     "output_type": "stream",
     "text": [
      "finished 2019\n",
      "finished 2021\n"
     ]
    }
   ],
   "source": [
    "for year in YEARS:\n",
    "    # preprocess the two external datasets\n",
    "    weather = pd.read_csv(f\"../data/raw/NYC weather {year}.csv\")\n",
    "    process_external(weather, year)"
   ]
  }
 ],
 "metadata": {
  "kernelspec": {
   "display_name": "Python 3.8.10 64-bit",
   "language": "python",
   "name": "python3"
  },
  "language_info": {
   "codemirror_mode": {
    "name": "ipython",
    "version": 3
   },
   "file_extension": ".py",
   "mimetype": "text/x-python",
   "name": "python",
   "nbconvert_exporter": "python",
   "pygments_lexer": "ipython3",
   "version": "3.8.10"
  },
  "orig_nbformat": 4,
  "vscode": {
   "interpreter": {
    "hash": "916dbcbb3f70747c44a77c7bcd40155683ae19c65e1c03b4aa3499c5328201f1"
   }
  }
 },
 "nbformat": 4,
 "nbformat_minor": 2
}

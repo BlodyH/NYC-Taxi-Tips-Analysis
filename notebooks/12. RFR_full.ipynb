{
 "cells": [
  {
   "cell_type": "code",
   "execution_count": 1,
   "metadata": {},
   "outputs": [
    {
     "name": "stdout",
     "output_type": "stream",
     "text": [
      "22/08/22 01:57:10 WARN Utils: Your hostname, Luo resolves to a loopback address: 127.0.1.1; using 172.17.1.121 instead (on interface eth0)\n",
      "22/08/22 01:57:10 WARN Utils: Set SPARK_LOCAL_IP if you need to bind to another address\n"
     ]
    },
    {
     "name": "stderr",
     "output_type": "stream",
     "text": [
      "Setting default log level to \"WARN\".\n",
      "To adjust logging level use sc.setLogLevel(newLevel). For SparkR, use setLogLevel(newLevel).\n"
     ]
    },
    {
     "name": "stdout",
     "output_type": "stream",
     "text": [
      "22/08/22 01:57:11 WARN NativeCodeLoader: Unable to load native-hadoop library for your platform... using builtin-java classes where applicable\n"
     ]
    }
   ],
   "source": [
    "from pyspark.sql import SparkSession\n",
    "from urllib.request import urlretrieve\n",
    "# Create a spark session (which will run spark jobs)\n",
    "spark = (\n",
    "    SparkSession.builder.appName(\"ADS project 1\")\n",
    "    .config(\"spark.sql.repl.eagerEval.enabled\", True)  \n",
    "    .config(\"spark.executor.memory\",\"4G\")\n",
    "    .config(\"spark.driver.memory\",\"8G\")\n",
    "    .config(\"spark.sql.parquet.cacheMetadata\", \"true\")\n",
    "    .config(\"spark.sql.session.timeZone\", \"Etc/UTC\")\n",
    "    .getOrCreate()\n",
    ")"
   ]
  },
  {
   "cell_type": "code",
   "execution_count": 2,
   "metadata": {},
   "outputs": [],
   "source": [
    "spark.conf.set(\"spark.sql.parquet.compression.codec\", \"gzip\")"
   ]
  },
  {
   "cell_type": "code",
   "execution_count": 3,
   "metadata": {},
   "outputs": [],
   "source": [
    "from pyspark.sql import functions as F\n",
    "from pyspark.sql import SparkSession\n",
    "from pyspark.sql.functions import *\n",
    "import matplotlib.pyplot as plt\n",
    "import pandas as pd\n",
    "import numpy as np\n",
    "import seaborn as sbs\n",
    "import geopandas as gpd\n",
    "import folium\n",
    "from pyspark.ml.feature import OneHotEncoder\n",
    "from pyspark.ml.feature import VectorAssembler\n",
    "from pyspark.ml.feature import MinMaxScaler\n",
    "from pyspark.ml import Pipeline\n",
    "from pyspark.sql.functions import udf\n",
    "from pyspark.sql.types import DoubleType\n",
    "from pyspark.ml.regression import RandomForestRegressor\n",
    "from pyspark.ml.evaluation import RegressionEvaluator\n",
    "import scipy as sp"
   ]
  },
  {
   "cell_type": "code",
   "execution_count": 4,
   "metadata": {},
   "outputs": [],
   "source": [
    "FEATURES = ['PULocationID', 'trip_distance', 'fare_amount', 'average_speed', 'time_duration', \\\n",
    "   'Temperature (F)', 'Wind Speed (mph)', 'Pickup_Time', 'Is_Airport', 'Is_Weekend', 'Is_Rainy']\n",
    "features = 'features'"
   ]
  },
  {
   "cell_type": "code",
   "execution_count": 5,
   "metadata": {},
   "outputs": [],
   "source": [
    "# vectorise the features that are going to be put into the model\n",
    "def feature_converter(sdf):\n",
    "    vecAss = VectorAssembler(\n",
    "    # features to be used\n",
    "    inputCols=FEATURES, \n",
    "    # name of the output column\n",
    "    outputCol=features\n",
    "    )\n",
    "    df_va = vecAss.transform(sdf)\n",
    "    return df_va"
   ]
  },
  {
   "cell_type": "code",
   "execution_count": 6,
   "metadata": {},
   "outputs": [],
   "source": [
    "# act as a pipline before modeling\n",
    "def preparation(sdf):\n",
    "    # vectorisation\n",
    "    sdf = feature_converter(sdf)\n",
    "    # take only the feature vector and the response\n",
    "    sdf = sdf.select([features, 'tip_amount'])\n",
    "    return sdf\n",
    "    "
   ]
  },
  {
   "cell_type": "code",
   "execution_count": 7,
   "metadata": {},
   "outputs": [
    {
     "name": "stderr",
     "output_type": "stream",
     "text": [
      "                                                                                \r"
     ]
    },
    {
     "name": "stdout",
     "output_type": "stream",
     "text": [
      "22/08/22 01:58:46 WARN DAGScheduler: Broadcasting large task binary with size 1806.2 KiB\n"
     ]
    },
    {
     "name": "stderr",
     "output_type": "stream",
     "text": [
      "[Stage 28:=================================================>        (6 + 1) / 7]\r"
     ]
    },
    {
     "name": "stdout",
     "output_type": "stream",
     "text": [
      "+++++++++++++++++++++++++++++++++++++++++++\n",
      "Using Categorical feature: ['PULocationID', 'trip_distance', 'fare_amount', 'average_speed', 'time_duration', 'Temperature (F)', 'Wind Speed (mph)', 'Pickup_Time', 'Is_Airport', 'Is_Weekend', 'Is_Rainy']\n",
      "mae:0.5335386016978068\n",
      "mse:0.6042790612360339\n"
     ]
    },
    {
     "name": "stderr",
     "output_type": "stream",
     "text": [
      "                                                                                \r"
     ]
    }
   ],
   "source": [
    "# read in the train test dataframe\n",
    "train_sdf = spark.read.parquet('../data/curated/tlc_data/Model_data.parquet')\n",
    "test_sdf = spark.read.parquet('../data/curated/tlc_data/Test_data.parquet')\n",
    "# pipline the dataframes\n",
    "train_sdf = preparation(train_sdf)\n",
    "test_sdf = preparation(test_sdf)\n",
    "# set up the RFR model\n",
    "rf = RandomForestRegressor(numTrees = 10, maxDepth = 10, labelCol='tip_amount')\n",
    "model = rf.fit(train_sdf)\n",
    "result = model.transform(test_sdf)\n",
    "# evaluate the model result based on mae and mse\n",
    "rf_evaluator = RegressionEvaluator(labelCol='tip_amount', metricName=\"mae\", predictionCol='prediction')\n",
    "mae = rf_evaluator.evaluate(result)\n",
    "rf_evaluator = RegressionEvaluator(labelCol='tip_amount', metricName=\"mse\", predictionCol='prediction')\n",
    "mse = rf_evaluator.evaluate(result)\n",
    "print('+++++++++++++++++++++++++++++++++++++++++++')\n",
    "print(f'Using Categorical feature: {FEATURES}')\n",
    "print('mae:{}'.format(mae))\n",
    "print('mse:{}'.format(mse))\n"
   ]
  },
  {
   "cell_type": "code",
   "execution_count": 8,
   "metadata": {},
   "outputs": [
    {
     "name": "stderr",
     "output_type": "stream",
     "text": [
      "                                                                                \r"
     ]
    },
    {
     "data": {
      "text/html": [
       "<table border='1'>\n",
       "<tr><th>summary</th><th>(tip_amount - prediction)</th></tr>\n",
       "<tr><td>count</td><td>1859987</td></tr>\n",
       "<tr><td>mean</td><td>0.040271992141957015</td></tr>\n",
       "<tr><td>stddev</td><td>0.7763102162774379</td></tr>\n",
       "<tr><td>min</td><td>-4.246570163910771</td></tr>\n",
       "<tr><td>max</td><td>4.205865965731269</td></tr>\n",
       "</table>\n"
      ],
      "text/plain": [
       "+-------+-------------------------+\n",
       "|summary|(tip_amount - prediction)|\n",
       "+-------+-------------------------+\n",
       "|  count|                  1859987|\n",
       "|   mean|     0.040271992141957015|\n",
       "| stddev|       0.7763102162774379|\n",
       "|    min|       -4.246570163910771|\n",
       "|    max|        4.205865965731269|\n",
       "+-------+-------------------------+"
      ]
     },
     "execution_count": 8,
     "metadata": {},
     "output_type": "execute_result"
    }
   ],
   "source": [
    "result.select(F.col('tip_amount') - F.col('prediction')).describe()"
   ]
  },
  {
   "cell_type": "code",
   "execution_count": 9,
   "metadata": {},
   "outputs": [
    {
     "name": "stderr",
     "output_type": "stream",
     "text": [
      "                                                                                \r"
     ]
    }
   ],
   "source": [
    "plot = result.toPandas()"
   ]
  },
  {
   "cell_type": "code",
   "execution_count": 10,
   "metadata": {},
   "outputs": [],
   "source": [
    "plot['residual'] = plot['prediction'] - plot['tip_amount']"
   ]
  },
  {
   "cell_type": "code",
   "execution_count": 12,
   "metadata": {},
   "outputs": [
    {
     "data": {
      "image/png": "[encoded data removed]",
      "text/plain": [
       "<Figure size 432x288 with 1 Axes>"
      ]
     },
     "metadata": {},
     "output_type": "display_data"
    }
   ],
   "source": [
    "# Plots the distribution of Residuals\n",
    "sbs.set_theme(style = 'darkgrid')\n",
    "sbs.histplot(plot['residual'], kde = True)\n",
    "plt.title('Distribution of residual', size = 14)\n",
    "# save the figure\n",
    "plt.savefig('../plots/Distribution of residual')\n",
    "plt.show()"
   ]
  },
  {
   "cell_type": "code",
   "execution_count": 13,
   "metadata": {},
   "outputs": [
    {
     "data": {
      "image/png": "[encoded data removed]",
      "text/plain": [
       "<Figure size 432x288 with 1 Axes>"
      ]
     },
     "metadata": {},
     "output_type": "display_data"
    }
   ],
   "source": [
    "# Plots the QQ plot\n",
    "fig, ax = plt.subplots()\n",
    "sp.stats.probplot(plot['residual'], plot=ax, fit=True)\n",
    "# save the figure\n",
    "plt.savefig('../plots/QQ plot')\n",
    "plt.show()"
   ]
  }
 ],
 "metadata": {
  "kernelspec": {
   "display_name": "Python 3.8.10 64-bit",
   "language": "python",
   "name": "python3"
  },
  "language_info": {
   "codemirror_mode": {
    "name": "ipython",
    "version": 3
   },
   "file_extension": ".py",
   "mimetype": "text/x-python",
   "name": "python",
   "nbconvert_exporter": "python",
   "pygments_lexer": "ipython3",
   "version": "3.8.10"
  },
  "orig_nbformat": 4,
  "vscode": {
   "interpreter": {
    "hash": "916dbcbb3f70747c44a77c7bcd40155683ae19c65e1c03b4aa3499c5328201f1"
   }
  }
 },
 "nbformat": 4,
 "nbformat_minor": 2
}
